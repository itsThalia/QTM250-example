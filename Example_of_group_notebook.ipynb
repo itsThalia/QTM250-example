{
  "nbformat": 4,
  "nbformat_minor": 0,
  "metadata": {
    "colab": {
      "name": "Example of group notebook.ipynb",
      "provenance": [],
      "authorship_tag": "ABX9TyMUNQMwLDnnE0AgyHuDHMyf",
      "include_colab_link": true
    },
    "kernelspec": {
      "name": "python3",
      "display_name": "Python 3"
    },
    "language_info": {
      "name": "python"
    }
  },
  "cells": [
    {
      "cell_type": "markdown",
      "metadata": {
        "id": "view-in-github",
        "colab_type": "text"
      },
      "source": [
        "<a href=\"https://colab.research.google.com/github/itsThalia/QTM250-example/blob/main/Example_of_group_notebook.ipynb\" target=\"_parent\"><img src=\"https://colab.research.google.com/assets/colab-badge.svg\" alt=\"Open In Colab\"/></a>"
      ]
    },
    {
      "cell_type": "markdown",
      "source": [
        "# Introduction"
      ],
      "metadata": {
        "id": "vLF3JR8A-Bbu"
      }
    },
    {
      "cell_type": "markdown",
      "source": [
        "**Thalia Le**\n",
        "\n",
        "* Hello, my name is Thalia and I am a current senior at Emory. I am studying Chemistry and Quantitative Sciences "
      ],
      "metadata": {
        "id": "GtKoYQmX97IB"
      }
    },
    {
      "cell_type": "markdown",
      "source": [
        "![profile](https://github.com/itsThalia/QTM250-example/blob/main/received_667713233626402.jpeg?raw=true)"
      ],
      "metadata": {
        "id": "aboSHdYBn9N0"
      }
    }
  ]
}