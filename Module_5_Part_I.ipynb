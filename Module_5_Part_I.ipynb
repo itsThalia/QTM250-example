{
  "nbformat": 4,
  "nbformat_minor": 0,
  "metadata": {
    "colab": {
      "name": "Module 5 -- Part I.ipynb",
      "provenance": [],
      "include_colab_link": true
    },
    "kernelspec": {
      "name": "python3",
      "display_name": "Python 3"
    },
    "language_info": {
      "name": "python"
    }
  },
  "cells": [
    {
      "cell_type": "markdown",
      "metadata": {
        "id": "view-in-github",
        "colab_type": "text"
      },
      "source": [
        "<a href=\"https://colab.research.google.com/github/itsThalia/QTM250-example/blob/main/Module_5_Part_I.ipynb\" target=\"_parent\"><img src=\"https://colab.research.google.com/assets/colab-badge.svg\" alt=\"Open In Colab\"/></a>"
      ]
    },
    {
      "cell_type": "markdown",
      "source": [
        "**This is the first half of the module 5 assignment. The full module 5 assignment will be due on Wednesday, April 6 at 11:59 pm ET.  To submit your work, please download this document as an html file and upload that to Canvas.** "
      ],
      "metadata": {
        "id": "PXFLuEguKTFz"
      }
    },
    {
      "cell_type": "markdown",
      "source": [
        "**We discussed 1 and 2 dimensional random walks in class this week. In this assignment, you'll explore the behavior of particles and ensembles of particles performing random walks, but with slightly modified behaviors.  In particular, one modification that can lead to the formation of a variety of interesting patterns is called [Diffusion Limited Aggregation](http://paulbourke.net/fractals/dla/) (DLA).**"
      ],
      "metadata": {
        "id": "pmvimoR1K-s9"
      }
    },
    {
      "cell_type": "markdown",
      "source": [
        "**0. List the names of your group members, as well as any other class members you conferred with for this assignment.**"
      ],
      "metadata": {
        "id": "j8eLMUo7KnLY"
      }
    },
    {
      "cell_type": "markdown",
      "source": [
        "**1. As you may notice from the link above, there are many different geometries used to implement DLA.**\n",
        "\n",
        "**(a) Here, you'll assume that particles originate from the top wall of a box (assume the box is square with corners located at (0,0) and (H,H)). Particles are attracted to move downward toward the bottom of the box. How might you modify what we did in class to create a** ***directed*** **or** ***biased*** **random walk that attracts the particle toward the bottom of the box?**\n",
        "\n",
        "\n"
      ],
      "metadata": {
        "id": "4v3L2s0OVfTg"
      }
    },
    {
      "cell_type": "markdown",
      "source": [
        "\n",
        "\n",
        "**(b) Starting from the two-dimensional single particle random walk code we wrote in class, write a program whose inputs are the height of the box, the step size of the particle, the strength of the attraction toward the bottom, and the maximum number of steps the particle will take. Your program should create a particle with a random initial position along the top of the box, and the particle performs a directed random walk toward the bottom of the box. If the particle reaches the bottom of the box, the particle should stop moving, and your code should stop running. Your program should output the x and y components of the particle trajectory until the particle hits the lower boundary.**"
      ],
      "metadata": {
        "id": "sOE9zaWHPZqN"
      }
    },
    {
      "cell_type": "markdown",
      "source": [
        "**(c) Run your program in (b) at least 5 times and save the outputs for boxSize = 100, stepSize = 1, attraction level of 0.2, and 1000 time steps. Plot the trajectories of the particles.  Does this behave the way you expect?**"
      ],
      "metadata": {
        "id": "84KkD3eTcCJy"
      }
    },
    {
      "cell_type": "markdown",
      "source": [
        "**(d) Building off of your single-particle code, write a program that produces trajectories for an ensemble of $N$ particles (where $N$ is an additional input into your code). Rather than creating trajectories in series (as we did for the one-dimensional random walk in class), create a program that will update the positions of multiple particles at each time step. Within your code, create a binary array that identifies which particles have reached the boundary (1 if yes, 0 if no). Store x and y positions in 2d arrays, and only update the positions of particles that are not on the boundary. For particles that are on the boundary, positions should be the same as the previous time step. This will be useful for the next steps.**"
      ],
      "metadata": {
        "id": "mrlkqmROf2P-"
      }
    },
    {
      "cell_type": "markdown",
      "source": [
        "**(e) Run your code for 100 particles, box size of 100, step size of 1, attraction of 0.2, and number of time steps of 1000. Plot all trajectories on the same axes using plt.plot(x.T,y.T). Does this plot look the way you expect?**"
      ],
      "metadata": {
        "id": "g86t2AFspkzh"
      }
    },
    {
      "cell_type": "markdown",
      "source": [
        "**(f) A crucial part of DLA is that, when a particle hits the boundary, it becomes stuck and sticky. So now, assume your particles are little squares of size = 1. Once they reach the bottom boundary, they stick and become attractive to other particles, so that if a new particle touches a bound particle, the new particle becomes stuck to the bound particle.  Explain how you would implement this into your code. Assume that contact between particles occurs when edges or corners touch.**"
      ],
      "metadata": {
        "id": "09j4FBwTeFfJ"
      }
    },
    {
      "cell_type": "markdown",
      "source": [
        "**(g) Add this particle size effect into your code.  Effectively, this will change the boundary that subsequent particles can adhere to. You'll need to modify your code to test, at each time step, if particles not on a boundary are touching any particles that are a part of the boundary. If there is contact, then make the new particles a part of the boundary as well.**"
      ],
      "metadata": {
        "id": "JlujfaqjqxEd"
      }
    },
    {
      "cell_type": "markdown",
      "source": [
        "**(h) Run your code and plot the final positions of all particles. Use the same parameters as above.**"
      ],
      "metadata": {
        "id": "LTmcYtP8sEuG"
      }
    },
    {
      "cell_type": "markdown",
      "source": [
        "**(i) How do the structures change as you vary attraction level (compared to step size) and the number of particles? How do your results compare to the examples in the DLA page linked above?**"
      ],
      "metadata": {
        "id": "ejdPR-yDs2YL"
      }
    }
  ]
}